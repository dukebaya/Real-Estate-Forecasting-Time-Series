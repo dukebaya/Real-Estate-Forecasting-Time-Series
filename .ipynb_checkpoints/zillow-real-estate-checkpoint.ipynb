{
 "cells": [
  {
   "cell_type": "code",
   "execution_count": 3,
   "metadata": {},
   "outputs": [
    {
     "name": "stdout",
     "output_type": "stream",
     "text": [
      "(14723, 272)\n",
      "   RegionID  RegionName      City State              Metro CountyName  \\\n",
      "0     84654       60657   Chicago    IL            Chicago       Cook   \n",
      "1     90668       75070  McKinney    TX  Dallas-Fort Worth     Collin   \n",
      "2     91982       77494      Katy    TX            Houston     Harris   \n",
      "3     84616       60614   Chicago    IL            Chicago       Cook   \n",
      "4     93144       79936   El Paso    TX            El Paso    El Paso   \n",
      "\n",
      "   SizeRank   1996-04   1996-05   1996-06  ...  2017-07  2017-08  2017-09  \\\n",
      "0         1  334200.0  335400.0  336500.0  ...  1005500  1007500  1007800   \n",
      "1         2  235700.0  236900.0  236700.0  ...   308000   310000   312500   \n",
      "2         3  210400.0  212200.0  212200.0  ...   321000   320600   320200   \n",
      "3         4  498100.0  500900.0  503100.0  ...  1289800  1287700  1287400   \n",
      "4         5   77300.0   77300.0   77300.0  ...   119100   119400   120000   \n",
      "\n",
      "   2017-10  2017-11  2017-12  2018-01  2018-02  2018-03  2018-04  \n",
      "0  1009600  1013300  1018700  1024400  1030700  1033800  1030600  \n",
      "1   314100   315000   316600   318100   319600   321100   321800  \n",
      "2   320400   320800   321200   321200   323000   326900   329900  \n",
      "3  1291500  1296600  1299000  1302700  1306400  1308500  1307000  \n",
      "4   120300   120300   120300   120300   120500   121000   121500  \n",
      "\n",
      "[5 rows x 272 columns]\n"
     ]
    }
   ],
   "source": [
    "import pandas as pd\n",
    "\n",
    "# Load the CSV file into a DataFrame\n",
    "df = pd.read_csv(\"zillow_data.csv\")\n",
    "#examine the shape of the dataset\n",
    "print(df.shape)\n",
    "# Display the first few rows of the DataFrame to verify it loaded correctly\n",
    "print(df.head())\n"
   ]
  }
 ],
 "metadata": {
  "kernelspec": {
   "display_name": "Python 3 (ipykernel)",
   "language": "python",
   "name": "python3"
  },
  "language_info": {
   "codemirror_mode": {
    "name": "ipython",
    "version": 3
   },
   "file_extension": ".py",
   "mimetype": "text/x-python",
   "name": "python",
   "nbconvert_exporter": "python",
   "pygments_lexer": "ipython3",
   "version": "3.10.9"
  }
 },
 "nbformat": 4,
 "nbformat_minor": 2
}
